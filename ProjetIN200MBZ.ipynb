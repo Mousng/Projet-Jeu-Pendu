{
 "cells": [
  {
   "cell_type": "code",
   "execution_count": 11,
   "metadata": {},
   "outputs": [],
   "source": [
    "import tkinter as tk\n",
    "import random"
   ]
  },
  {
   "cell_type": "code",
   "execution_count": 12,
   "metadata": {},
   "outputs": [],
   "source": [
    "#création de l'interface\n",
    "fenetre = tk.Tk()\n",
    "fenetre.title(\"Jeu du Pendu\")\n",
    "\n",
    "# Mots à deviner\n",
    "mots = ['Paris', 'Marseille', 'Bordeaux', 'informatique','Lille','Versailles','UFR des Sciences']\n",
    "\n",
    "#fonction qui permet de choisir un mot aléatoirement\n",
    "def choisir_un_mot():\n",
    "    return random.choice(mots)\n",
    "\n",
    "#initialisation de commande\n",
    "mot_secret = choisir_un_mot()\n",
    "mot_à_trouve = ['*'] * len(mot_secret)\n",
    "\n",
    "#Label pour afficher le mot à deviner\n",
    "label_mot = tk.Label(fenetre, text=' '.join(mot_à_trouve))\n",
    "label_mot.pack()\n",
    "\n",
    "\n",
    "\n",
    "\n",
    "\n",
    "\n",
    "\n",
    "#fonction qui permet de quitter la fenetre\n",
    "#def fermer_fenetre():\n",
    "    #fentre.destroy()\n",
    "\n",
    "fenetre.mainloop()"
   ]
  },
  {
   "cell_type": "code",
   "execution_count": 13,
   "metadata": {},
   "outputs": [],
   "source": [
    "#Pour aller plus loin \n",
    "\n",
    "#fonction qui permet de quitter la fenetre\n",
    "#def fermer_fenetre():\n",
    "    #fentre.destroy()\n",
    "\n",
    "\n",
    "#création des bouton\n",
    "#bouton_quitter = tk.Button(fenetre, text=\"quitter\", command= fermer_fenetre)\n",
    "#bouton_quitter.grid(column = 0, row = 0)\n",
    "\n",
    "#bouton_aide = tk.Button(fenetre, text=\"Aide\", command= \"\")\n",
    "#bouton_aide.grid(column = 0, row = 0)\n",
    "\n",
    "#bouton_score = tk.Button(fenetre, text=\"Score\", command= \"\")\n",
    "#bouton_score.grid(column = 0, row = 0)"
   ]
  },
  {
   "cell_type": "code",
   "execution_count": null,
   "metadata": {},
   "outputs": [],
   "source": [
    "#Source :\n",
    "#http://www.jybaudot.fr/Programmation/pyalea.html#:~:text=La%20fonction%20random%20permet%20de,instruction%20est%20n%20%3D%20random()."
   ]
  },
  {
   "cell_type": "code",
   "execution_count": null,
   "metadata": {},
   "outputs": [],
   "source": [
    "#GITHUB\n",
    "https://github.com/uvsq-info2324/projet-in200-moussa-birane-zakaria"
   ]
  }
 ],
 "metadata": {
  "kernelspec": {
   "display_name": "base",
   "language": "python",
   "name": "python3"
  },
  "language_info": {
   "codemirror_mode": {
    "name": "ipython",
    "version": 3
   },
   "file_extension": ".py",
   "mimetype": "text/x-python",
   "name": "python",
   "nbconvert_exporter": "python",
   "pygments_lexer": "ipython3",
   "version": "3.11.4"
  }
 },
 "nbformat": 4,
 "nbformat_minor": 2
}
