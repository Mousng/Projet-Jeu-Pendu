{
 "cells": [
  {
   "cell_type": "code",
   "execution_count": 3,
   "metadata": {},
   "outputs": [],
   "source": [
    "import tkinter as tk\n",
    "import random"
   ]
  },
  {
   "cell_type": "code",
   "execution_count": 111,
   "metadata": {},
   "outputs": [],
   "source": [
    "\n",
    "#création de l'interface\n",
    "fenetre = tk.Tk()\n",
    "fenetre.title(\"Jeu du Pendu\")\n",
    "\n",
    "# Mots à deviner\n",
    "mots = ['Paris', 'Marseille', 'Bordeaux', 'informatique','Lille','Versailles','UFR des Sciences']\n",
    "\n",
    "#fonction qui permet de choisir un mot aléatoirement\n",
    "def choisir_un_mot():\n",
    "    return random.choice(mots)\n",
    "\n",
    "#initialisation de commande\n",
    "mot_secret = choisir_un_mot()\n",
    "mot_à_trouve = ['*'] * len(mot_secret)\n",
    "\n",
    "#Label pour afficher le mot à deviner\n",
    "label_mot = tk.Label(fenetre, text=' '.join(mot_à_trouve))\n",
    "label_mot.pack()\n",
    "\n",
    "def choisir_lettre():\n",
    "    str(input(\"choisis une lettre\"))\n",
    "\n",
    "\n",
    "\n",
    "entree = tk.Entry(fenetre, width=40)\n",
    "entree.pack(padx= 100,pady=200)\n",
    "\n",
    "\"\"\"\"\"\n",
    "for i in lettre_alphabet:\n",
    "    bouton_lettre = tk.Button(fenetre, text=i, command = choisir_lettre)\n",
    "    bouton_lettre.pack(side='left', pady = 10, padx=10)\n",
    "\"\"\"\"\"\n",
    "canvas = tk.Canvas(fenetre, bg=\"white\", height=200, width=200)\n",
    "canvas.pack(side='left')\n",
    "\n",
    "\n",
    "\n",
    "\n",
    "\n",
    "\n",
    "\n",
    "\n",
    "\n",
    "\n",
    "\n",
    "\n",
    "\n",
    "\n",
    "\n",
    "#fonction qui permet de quitter la fenetre\n",
    "#def fermer_fenetre():\n",
    "    #fentre.destroy()\n",
    "\n",
    "fenetre.mainloop()"
   ]
  },
  {
   "cell_type": "code",
   "execution_count": 13,
   "metadata": {},
   "outputs": [],
   "source": [
    "#Pour aller plus loin \n",
    "\n",
    "#fonction qui permet de quitter la fenetre\n",
    "#def fermer_fenetre():\n",
    "    #fentre.destroy()\n",
    "\n",
    "\n",
    "#création des bouton\n",
    "#bouton_quitter = tk.Button(fenetre, text=\"quitter\", command= fermer_fenetre)\n",
    "#bouton_quitter.grid(column = 0, row = 0)\n",
    "\n",
    "#bouton_aide = tk.Button(fenetre, text=\"Aide\", command= \"\")\n",
    "#bouton_aide.grid(column = 0, row = 0)\n",
    "\n",
    "#bouton_score = tk.Button(fenetre, text=\"Score\", command= \"\")\n",
    "#bouton_score.grid(column = 0, row = 0)"
   ]
  },
  {
   "cell_type": "code",
   "execution_count": null,
   "metadata": {},
   "outputs": [],
   "source": [
    "#Source :\n",
    "#http://www.jybaudot.fr/Programmation/pyalea.html#:~:text=La%20fonction%20random%20permet%20de,instruction%20est%20n%20%3D%20random()."
   ]
  },
  {
   "cell_type": "code",
   "execution_count": null,
   "metadata": {},
   "outputs": [],
   "source": [
    "#GITHUB\n",
    "https://github.com/uvsq-info2324/projet-in200-moussa-birane-zakaria\n",
    "\n",
    "canvas.grid()\n",
    "canvas.create_line((50, 100), (50, 600), fill=\"green\", width=2)\n",
    "canvas.create_line((50, 100), (175,100 ), fill=\"green\", width=2)\n",
    "canvas.create_line((175, 100), (175, 150), fill=\"green\", width=2)\n",
    "canvas.create_line((175, 180), (175, 300), fill=\"green\", width=2)\n",
    "canvas.create_line((175, 300), (200, 350), fill=\"green\", width=2)\n",
    "canvas.create_line((175, 300), (155, 350), fill=\"green\", width=2)\n",
    "\n",
    "\n",
    "canvas.create_oval((150, 150), (200,200), fill=\"black\", width=2)"
   ]
  }
 ],
 "metadata": {
  "kernelspec": {
   "display_name": "base",
   "language": "python",
   "name": "python3"
  },
  "language_info": {
   "codemirror_mode": {
    "name": "ipython",
    "version": 3
   },
   "file_extension": ".py",
   "mimetype": "text/x-python",
   "name": "python",
   "nbconvert_exporter": "python",
   "pygments_lexer": "ipython3",
   "version": "3.11.4"
  }
 },
 "nbformat": 4,
 "nbformat_minor": 2
}
