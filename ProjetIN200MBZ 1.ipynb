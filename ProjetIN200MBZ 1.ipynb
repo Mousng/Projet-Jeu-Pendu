{
 "cells": [
  {
   "cell_type": "code",
   "execution_count": 2,
   "metadata": {},
   "outputs": [],
   "source": [
    "import tkinter as tk\n",
    "import random"
   ]
  },
  {
   "cell_type": "code",
   "execution_count": 25,
   "metadata": {},
   "outputs": [],
   "source": [
    "\n",
    "\n",
    "fenetre = tk.Tk()\n",
    "fenetre.title(\"Jeu du Pendu\")\n",
    "\n",
    "# Mots à deviner\n",
    "mots = ['Paris', 'Marseille', 'Bordeaux', 'informatique','Lille','Versailles',]\n",
    "\n",
    "#fonction qui permet de choisir un mot aléatoirement\n",
    "def choisir_un_mot():\n",
    "    return random.choice(mots)\n",
    "\n",
    "#initialisation de commande\n",
    "mot_secret = choisir_un_mot()\n",
    "mot_à_trouve = ['*'] * len(mot_secret)\n",
    "\n",
    "#Label pour afficher le mot à deviner\n",
    "label_mot = tk.Label(fenetre, text=' '.join(mot_à_trouve))\n",
    "label_mot.pack()\n",
    "\n",
    "\n",
    "def fermer_fenetre():\n",
    "    fenetre.destroy()\n",
    "\n",
    "bouton_quitter = tk.Button(fenetre, text=\"quitter\", command=fermer_fenetre)\n",
    "bouton_quitter.pack(ipadx= 2, ipady=1)\n",
    "\n",
    "from tkinter import *   \n",
    "def create():\n",
    "    win = Toplevel(aide)\n",
    "aide = Tk()\n",
    "aide.title(\"Aide\")\n",
    "aide.geometry('200x100')  \n",
    "btn = Button(fenetre, text=\"aide\", command = create)\n",
    "btn.pack(pady = 10) \n",
    "aide.mainloop()\n",
    "\n",
    "\n",
    "fenetre.mainloop()"
   ]
  },
  {
   "cell_type": "code",
   "execution_count": 5,
   "metadata": {},
   "outputs": [],
   "source": [
    "#Pour aller plus loin \n",
    "\n",
    "#bouton_aide = tk.Button(fenetre, text=\"Aide\", command= \"\")\n",
    "#bouton_aide.grid(column = 0, row = 0)\n",
    "\n",
    "#bouton_score = tk.Button(fenetre, text=\"Score\", command= \"\")\n",
    "#bouton_score.grid(column = 0, row = 0)"
   ]
  },
  {
   "cell_type": "code",
   "execution_count": 45,
   "metadata": {},
   "outputs": [],
   "source": [
    "#Source :\n",
    "#http://www.jybaudot.fr/Programmation/pyalea.html#:~:text=La%20fonction%20random%20permet%20de,instruction%20est%20n%20%3D%20random().\n",
    "\n",
    "#https://waytolearnx.com/2020/07/ouvrir-une-autre-fenetre-en-cliquant-sur-un-bouton-tkinter-python.html?utm_content=cmp-true"
   ]
  },
  {
   "cell_type": "code",
   "execution_count": 46,
   "metadata": {},
   "outputs": [
    {
     "ename": "SyntaxError",
     "evalue": "invalid syntax (4086338493.py, line 2)",
     "output_type": "error",
     "traceback": [
      "\u001b[1;36m  Cell \u001b[1;32mIn[46], line 2\u001b[1;36m\u001b[0m\n\u001b[1;33m    https://github.com/uvsq-info2324/projet-in200-moussa-birane-zakaria\u001b[0m\n\u001b[1;37m          ^\u001b[0m\n\u001b[1;31mSyntaxError\u001b[0m\u001b[1;31m:\u001b[0m invalid syntax\n"
     ]
    }
   ],
   "source": [
    "#GITHUB\n",
    "https://github.com/uvsq-info2324/projet-in200-moussa-birane-zakaria"
   ]
  }
 ],
 "metadata": {
  "kernelspec": {
   "display_name": "base",
   "language": "python",
   "name": "python3"
  },
  "language_info": {
   "codemirror_mode": {
    "name": "ipython",
    "version": 3
   },
   "file_extension": ".py",
   "mimetype": "text/x-python",
   "name": "python",
   "nbconvert_exporter": "python",
   "pygments_lexer": "ipython3",
   "version": "3.11.5"
  }
 },
 "nbformat": 4,
 "nbformat_minor": 2
}
